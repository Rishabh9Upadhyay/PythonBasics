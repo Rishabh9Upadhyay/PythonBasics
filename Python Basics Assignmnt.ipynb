{
 "cells": [
  {
   "cell_type": "markdown",
   "id": "0b4c26d5-16ff-4c07-8a07-724af449c0ef",
   "metadata": {},
   "source": [
    "# Python Basics"
   ]
  },
  {
   "cell_type": "markdown",
   "id": "0d496b5f-e90a-4286-9a6c-1e84f5f60d06",
   "metadata": {},
   "source": [
    "1. What is Python, and why is it popular?\n",
    " - Python is a high-level, interpreted, and general-purpose programming language. It is so popular due to its simplicity, readability, and versatility, making it accessible for both beginners and experienced developers.\n",
    "\n",
    "\n",
    "2. What is an interpreter in Python?\n",
    "   - An interpreter in Python is a program that directly executes Python code line by line, converting it into machine-readable instructions without requiring prior compilation into a separate binary file.\n",
    "\n",
    "\n",
    "3. What are pre-defined keywords in Python?\n",
    "   - Pre-defined keywords in Python are reserved words that have special meanings and purposes. They are part of the Python language syntax and cannot be used as identifiers (variable names, function names, etc.).\n",
    "\n",
    "\n",
    "4. Can keywords be used as variable name?\n",
    "   - No, keywords cannot be used as variable names in Python.\n",
    "\n",
    "\n",
    "5. What is mutability in Python?\n",
    "   - Mutability in Python refers to the ability of an object to be modified after it has been created. Based on mutability, Python objects are classified into two types:\n",
    "     - Mutable: Lists, Dictionaries, sets.\n",
    "     - Non Mutable: Tuples, Strings.\n",
    "    \n",
    "6. Why are lists mutable, but tuples are immutable?\n",
    "   - Lists are used for dynamic data, while tuples are used for fixed or constant data.\n",
    "  \n",
    "7. What is the difference between “==” and “is” operators in Python?\n",
    "   - Both are comparative operator but '==' compares two variable based on their value while in other hand 'is' operator compares variable based on their referenece.\n",
    "\n",
    "8. What are logical operators in Python?\n",
    "   - Logical operators(and, or, not) in Python are used to perform logical operations on expressions.\n",
    "\n",
    "9. What is type casting in Python?\n",
    "   - Type casting in Python refers to the conversion of one data type into another. It allows you to change the type of an object to suit your needs, ensuring compatibility between different data types during operations.\n",
    "\n",
    "10. What is the difference between implicit and explicit type casting?\n",
    "   - Implicit\n",
    "        - Python automatically converts a data type to another data type when it is needed during operations. This conversion happens implicitly without any need for the programmer to specify it.\n",
    "   - Explicite\n",
    "        - The programmer explicitly specifies the conversion from one data type to another. This conversion is done using type casting functions like int(), float(), str(), etc.\n",
    "\n",
    "11. What is the purpose of conditional statements in Python?\n",
    "   - Conditional statements in Python are used to control the flow of execution in a program based on certain conditions.\n",
    "     \n",
    "12. How does the elif statement work?\n",
    "   - The elif statement in Python is short for \"else if\". It allows you to check multiple conditions in a sequence, and execute different blocks of code based on which condition is true.\n",
    "\n",
    "13. What is the difference between for and while loops?\n",
    "   - Both are used for iteration. But the for loop is used for iterating over a sequence (like a list, tuple, string, or range) and performing an action on each element in the sequence and the while loop repeatedly executes a block of code as long as a specified condition is True. It is best used when the number of iterations is not known and the loop needs to run until a condition is met.\n",
    "\n",
    "14. Describe a scenario where a while loop is more suitable than a for loop?\n",
    "   - Suppose you are writing a program that keeps asking the user for their age until they provide a valid input (a positive integer). In this case, you don't know how many times the user might enter an invalid age, so a while loop is more appropriate because it keeps running as long as the condition (valid input) is not met.\n",
    "\n"
   ]
  },
  {
   "cell_type": "markdown",
   "id": "995708c4-7435-4d68-9f36-a89f841bca86",
   "metadata": {},
   "source": [
    "# Practical Questions"
   ]
  },
  {
   "cell_type": "code",
   "execution_count": 7,
   "id": "1bffe26d-1e6c-45e4-866b-245e9ab04ad7",
   "metadata": {},
   "outputs": [
    {
     "name": "stdout",
     "output_type": "stream",
     "text": [
      "Hello World!\n"
     ]
    }
   ],
   "source": [
    "# 1. Write a Python program to print \"Hello, World!\".\n",
    "print(\"Hello World!\")"
   ]
  },
  {
   "cell_type": "code",
   "execution_count": 9,
   "id": "6fb48e34-7daf-4922-a285-e8f79112b943",
   "metadata": {},
   "outputs": [
    {
     "name": "stdin",
     "output_type": "stream",
     "text": [
      "Enter name: Rishabh Upadhyay\n",
      "Enter age:  24\n"
     ]
    },
    {
     "name": "stdout",
     "output_type": "stream",
     "text": [
      "Rishabh Upadhyay 24\n"
     ]
    }
   ],
   "source": [
    "# 2. Write a Python program that displays your name and age.\n",
    "print(input(\"Enter name:\" ),int(input(\"Enter age: \")))"
   ]
  },
  {
   "cell_type": "code",
   "execution_count": 10,
   "id": "d93cc321-cabc-40c3-b080-eb1c8278d135",
   "metadata": {},
   "outputs": [
    {
     "name": "stdout",
     "output_type": "stream",
     "text": [
      "\n",
      "Here is a list of the Python keywords.  Enter any keyword to get more help.\n",
      "\n",
      "False               class               from                or\n",
      "None                continue            global              pass\n",
      "True                def                 if                  raise\n",
      "and                 del                 import              return\n",
      "as                  elif                in                  try\n",
      "assert              else                is                  while\n",
      "async               except              lambda              with\n",
      "await               finally             nonlocal            yield\n",
      "break               for                 not                 \n",
      "\n"
     ]
    }
   ],
   "source": [
    "# 3. Write code to print all the pre-defined keywords in Python using the keyword library.\n",
    "help('keywords')"
   ]
  },
  {
   "cell_type": "code",
   "execution_count": 11,
   "id": "be6468fa-5e5a-4aa6-a4f7-21e7014b6eac",
   "metadata": {},
   "outputs": [
    {
     "name": "stdin",
     "output_type": "stream",
     "text": [
      "Enter a word:  for\n"
     ]
    },
    {
     "name": "stdout",
     "output_type": "stream",
     "text": [
      "'for' is a Python keyword.\n"
     ]
    }
   ],
   "source": [
    "# 4. Write a program that checks if a given word is a Python keyword.\n",
    "import keyword\n",
    "word = input(\"Enter a word: \")\n",
    "if keyword.iskeyword(word):\n",
    "    print(f\"'{word}' is a Python keyword.\")\n",
    "else:\n",
    "    print(f\"'{word}' is not a Python keyword.\")"
   ]
  },
  {
   "cell_type": "code",
   "execution_count": 15,
   "id": "9ea7e70f-489e-4732-b0b8-1edb93a367f8",
   "metadata": {},
   "outputs": [
    {
     "name": "stdout",
     "output_type": "stream",
     "text": [
      "[1, 2, 3, 4] (1, 2, 3, 4)\n"
     ]
    }
   ],
   "source": [
    "# 5. Create a list and tuple in Python, and demonstrate how attempting to change an element works differently for each.\n",
    "lst = [1, 2, 3, 4]\n",
    "tpl = (1, 2, 3, 4)\n",
    "print(lst,tpl)\n",
    "lst[1] = 10\n",
    "# tpl[1] = 10 it will throw error beacause tuple is immutable"
   ]
  },
  {
   "cell_type": "code",
   "execution_count": 17,
   "id": "1241835e-d251-42fb-b757-68ab902fae08",
   "metadata": {},
   "outputs": [
    {
     "name": "stdout",
     "output_type": "stream",
     "text": [
      "Mutable argument: [1, 2, 3]\n",
      "Immutable argument: (1, 2, 3)\n",
      "Mutable argument: [1, 2, 3, 4]\n",
      "Immutable argument: (1, 2, 3)\n"
     ]
    }
   ],
   "source": [
    "# 6. Write a function to demonstrate the behavior of mutable and immutable arguments.\n",
    "def demonstrate_mutability(mutable_arg, immutable_arg):\n",
    "    print(f\"Mutable argument: {mutable_arg}\")\n",
    "    print(f\"Immutable argument: {immutable_arg}\")\n",
    "    mutable_arg.append(4)\n",
    "    print(f\"Mutable argument: {mutable_arg}\")\n",
    "    print(f\"Immutable argument: {immutable_arg}\")\n",
    "mutable_list = [1, 2, 3]  \n",
    "immutable_int = (1, 2, 3)       \n",
    "demonstrate_mutability(mutable_list, immutable_int)"
   ]
  },
  {
   "cell_type": "code",
   "execution_count": 18,
   "id": "57b92d8a-8dfc-403d-8cc6-73cfe0feca80",
   "metadata": {},
   "outputs": [
    {
     "name": "stdout",
     "output_type": "stream",
     "text": [
      "Mutable argument: [1, 2, 3]\n",
      "Immutable argument: (1, 2, 3)\n",
      "Mutable argument: [1, 2, 3, 4]\n",
      "Immutable argument: (1, 2, 3)\n"
     ]
    }
   ],
   "source": [
    "# 7. Write a function to demonstrate the behavior of mutable and immutable arguments.\n",
    "def demonstrate_mutability(mutable_arg, immutable_arg):\n",
    "    print(f\"Mutable argument: {mutable_arg}\")\n",
    "    print(f\"Immutable argument: {immutable_arg}\")\n",
    "    mutable_arg.append(4)\n",
    "    print(f\"Mutable argument: {mutable_arg}\")\n",
    "    print(f\"Immutable argument: {immutable_arg}\")\n",
    "mutable_list = [1, 2, 3]  \n",
    "immutable_int = (1, 2, 3)       \n",
    "demonstrate_mutability(mutable_list, immutable_int)"
   ]
  },
  {
   "cell_type": "code",
   "execution_count": 19,
   "id": "2452235e-9b77-4696-95f8-46ea10930210",
   "metadata": {},
   "outputs": [
    {
     "name": "stdout",
     "output_type": "stream",
     "text": [
      "a > 5 and b < 10: True\n",
      "a > 5 or b > 10: True\n",
      "not (a > 5): False\n"
     ]
    }
   ],
   "source": [
    "# 8. Write a program to demonstrate the use of logical operators.\n",
    "def demonstrate_logical_operators(a, b):\n",
    "    print(f\"a > 5 and b < 10: {a > 5 and b < 10}\")\n",
    "    print(f\"a > 5 or b > 10: {a > 5 or b > 10}\")\n",
    "    print(f\"not (a > 5): {not (a > 5)}\")\n",
    "a = 7\n",
    "b = 8\n",
    "demonstrate_logical_operators(a, b)"
   ]
  },
  {
   "cell_type": "code",
   "execution_count": 20,
   "id": "461f76f9-1a73-40d5-81d1-d36804035be6",
   "metadata": {},
   "outputs": [
    {
     "name": "stdin",
     "output_type": "stream",
     "text": [
      "Enter a input:  24\n"
     ]
    },
    {
     "name": "stdout",
     "output_type": "stream",
     "text": [
      "<class 'str'>\n",
      "<class 'int'>\n",
      "<class 'bool'>\n"
     ]
    }
   ],
   "source": [
    "# 9. Write a Python program to convert user input from string to integer, float, and boolean types.\n",
    "num = input(\"Enter a input: \")\n",
    "print(type(num))  # str\n",
    "num = int(num)\n",
    "print(type(num))  # integer\n",
    "num = bool(num)\n",
    "print(type(num))  # bool"
   ]
  },
  {
   "cell_type": "code",
   "execution_count": 22,
   "id": "63fc149f-712e-4dc0-915a-b11f473a6957",
   "metadata": {},
   "outputs": [
    {
     "name": "stdout",
     "output_type": "stream",
     "text": [
      "[1, 2, 3, 4, 5, 6, 7, 8, 9, 10]\n",
      "['1', '2', '3', '4', '5', '6', '7', '8', '9', '10']\n"
     ]
    }
   ],
   "source": [
    "# 10. Write code to demonstrate type casting with list elements.\n",
    "lst = [1,2,3,4,5,6,7,8,9,10]\n",
    "print(lst)   #Each element is integer\n",
    "lst = [str(x) for x in lst]\n",
    "print(lst)   #Now each element is string"
   ]
  },
  {
   "cell_type": "code",
   "execution_count": 24,
   "id": "58ee526e-b0d9-4759-82fa-de09caab48cb",
   "metadata": {},
   "outputs": [
    {
     "name": "stdin",
     "output_type": "stream",
     "text": [
      "Enter a number 20\n"
     ]
    },
    {
     "name": "stdout",
     "output_type": "stream",
     "text": [
      "The number is positive\n"
     ]
    }
   ],
   "source": [
    "# 11. Write a program that checks if a number is positive, negative, or zero.\n",
    "num = int(input(\"Enter a number\"))\n",
    "print(\"The number is positive\" if num > 0 else \"The number is zero\" if num == 0 else \"The number is negative\")"
   ]
  },
  {
   "cell_type": "code",
   "execution_count": 25,
   "id": "e3279a74-1d8d-4cf3-9633-24bdbc663797",
   "metadata": {},
   "outputs": [
    {
     "name": "stdout",
     "output_type": "stream",
     "text": [
      "1\n",
      "2\n",
      "3\n",
      "4\n",
      "5\n",
      "6\n",
      "7\n",
      "8\n",
      "9\n",
      "10\n"
     ]
    }
   ],
   "source": [
    "# 12. Write a for loop to print numbers from 1 to 10. \n",
    "for i in range(1,11):\n",
    "    print(i)"
   ]
  },
  {
   "cell_type": "code",
   "execution_count": 27,
   "id": "e16aad8b-6064-49f5-9fb9-f167a6f1960e",
   "metadata": {},
   "outputs": [
    {
     "name": "stdout",
     "output_type": "stream",
     "text": [
      "650\n"
     ]
    }
   ],
   "source": [
    "# 13. Write a Python program to find the sum of all even numbers between 1 and 50.\n",
    "i = 2\n",
    "sum = 0\n",
    "while i<=50:\n",
    "    sum += i\n",
    "    i += 2\n",
    "print(sum)"
   ]
  },
  {
   "cell_type": "code",
   "execution_count": 28,
   "id": "d7ed0d5c-ff2b-44f5-8791-267e2c7edd8a",
   "metadata": {},
   "outputs": [
    {
     "name": "stdout",
     "output_type": "stream",
     "text": [
      "yayhdapU hbahsiR\n"
     ]
    }
   ],
   "source": [
    "# 14. Write a program to reverse a string using a while loop.\n",
    "str1 = \"Rishabh Upadhyay\"\n",
    "i = 0\n",
    "str2 = \"\"\n",
    "while i<len(str1):\n",
    "    str2 = str1[i]+str2\n",
    "    i += 1\n",
    "print(str2)"
   ]
  },
  {
   "cell_type": "code",
   "execution_count": 29,
   "id": "4f7ed0cd-1750-4132-a8e0-8778e0b682a3",
   "metadata": {},
   "outputs": [
    {
     "name": "stdin",
     "output_type": "stream",
     "text": [
      "Enter a number to calculate factorial:  5\n"
     ]
    },
    {
     "name": "stdout",
     "output_type": "stream",
     "text": [
      "120\n"
     ]
    }
   ],
   "source": [
    "# 15. Write a Python program to calculate the factorial of a number provided by the user using a while loop.\n",
    "num = int(input(\"Enter a number to calculate factorial: \"))\n",
    "ans = 1\n",
    "while num>0:\n",
    "    ans *= num\n",
    "    num -=1\n",
    "print(ans)"
   ]
  }
 ],
 "metadata": {
  "kernelspec": {
   "display_name": "Python 3 (ipykernel)",
   "language": "python",
   "name": "python3"
  },
  "language_info": {
   "codemirror_mode": {
    "name": "ipython",
    "version": 3
   },
   "file_extension": ".py",
   "mimetype": "text/x-python",
   "name": "python",
   "nbconvert_exporter": "python",
   "pygments_lexer": "ipython3",
   "version": "3.12.2"
  }
 },
 "nbformat": 4,
 "nbformat_minor": 5
}
